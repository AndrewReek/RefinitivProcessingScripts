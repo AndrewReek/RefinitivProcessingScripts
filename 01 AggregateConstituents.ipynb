{
 "cells": [
  {
   "cell_type": "markdown",
   "id": "09c6be72",
   "metadata": {},
   "source": [
    "# Aggregate Constituents Script"
   ]
  },
  {
   "cell_type": "code",
   "execution_count": 1,
   "id": "09e470d5",
   "metadata": {},
   "outputs": [],
   "source": [
    "import pandas as pd\n",
    "import numpy as np\n",
    "import openpyxl\n",
    "import os"
   ]
  },
  {
   "cell_type": "code",
   "execution_count": 2,
   "id": "1ea32a73",
   "metadata": {},
   "outputs": [
    {
     "data": {
      "text/plain": [
       "['Companies_AT.xlsm',\n",
       " 'Companies_BE.xlsm',\n",
       " 'Companies_CH.xlsm',\n",
       " 'Companies_CZ.xlsm',\n",
       " 'Companies_DE.xlsm',\n",
       " 'Companies_DK.xlsm',\n",
       " 'Companies_ES.xlsm',\n",
       " 'Companies_FI.xlsm',\n",
       " 'Companies_FR.xlsm',\n",
       " 'Companies_GR.xlsm',\n",
       " 'Companies_IR.xlsm',\n",
       " 'Companies_IT.xlsm',\n",
       " 'Companies_LU.xlsm',\n",
       " 'Companies_NL.xlsm',\n",
       " 'Companies_NO.xlsm',\n",
       " 'Companies_PO.xlsm',\n",
       " 'Companies_PT.xlsm',\n",
       " 'Companies_SE.xlsm',\n",
       " 'Companies_UK.xlsm']"
      ]
     },
     "execution_count": 2,
     "metadata": {},
     "output_type": "execute_result"
    }
   ],
   "source": [
    "DATA_DIRECTORY = '../00 Excel/'\n",
    "\n",
    "YEAR = 2021\n",
    "\n",
    "FILES = os.listdir(DATA_DIRECTORY)\n",
    "\n",
    "FILES"
   ]
  },
  {
   "cell_type": "code",
   "execution_count": 3,
   "id": "19db9d4d",
   "metadata": {},
   "outputs": [],
   "source": [
    "dfs = []\n",
    "\n",
    "for file in FILES:\n",
    "    \n",
    "    wb = openpyxl.load_workbook(f'{DATA_DIRECTORY}{file}')\n",
    "    sheets = wb.sheetnames\n",
    "    \n",
    "    for sheet in sheets:\n",
    "        \n",
    "        if sheet != \"REQUEST_TABLE\":\n",
    "            df = pd.read_excel(f'{DATA_DIRECTORY}{file}', sheet_name = sheet)\n",
    "        \n",
    "    \n",
    "            dfs.append(df)\n",
    "    \n",
    "    \n",
    "df_output = pd.concat(dfs)\n",
    "\n",
    "\n",
    "df_output.to_csv(f'{DATA_DIRECTORY}Static_data_{year}.csv',\";\")"
   ]
  },
  {
   "cell_type": "code",
   "execution_count": null,
   "id": "ed08a415",
   "metadata": {},
   "outputs": [],
   "source": []
  }
 ],
 "metadata": {
  "kernelspec": {
   "display_name": "Python 3 (ipykernel)",
   "language": "python",
   "name": "python3"
  },
  "language_info": {
   "codemirror_mode": {
    "name": "ipython",
    "version": 3
   },
   "file_extension": ".py",
   "mimetype": "text/x-python",
   "name": "python",
   "nbconvert_exporter": "python",
   "pygments_lexer": "ipython3",
   "version": "3.10.4"
  }
 },
 "nbformat": 4,
 "nbformat_minor": 5
}
