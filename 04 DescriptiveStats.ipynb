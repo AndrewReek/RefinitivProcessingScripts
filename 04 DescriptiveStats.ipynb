{
 "cells": [
  {
   "cell_type": "markdown",
   "metadata": {},
   "source": [
    "# Descriptive Statistics Generation"
   ]
  },
  {
   "cell_type": "code",
   "execution_count": 11,
   "metadata": {},
   "outputs": [],
   "source": [
    "import pandas as pd"
   ]
  },
  {
   "cell_type": "code",
   "execution_count": 12,
   "metadata": {},
   "outputs": [],
   "source": [
    "df_old = pd.read_stata(\"../99_Final Dataset/TR_9420.dta\")\n",
    "df_20 = pd.read_stata(\"../99_Final Dataset/2020/TR_20.dta\")\n",
    "df_21 = pd.read_stata(\"../99_Final Dataset/2021/TR_21.dta\")\n",
    "\n",
    "df_new = pd.concat([df_old, df_20, df_21]).drop_duplicates(subset = ['DSCD', 'year'])"
   ]
  },
  {
   "cell_type": "code",
   "execution_count": 13,
   "metadata": {},
   "outputs": [],
   "source": [
    "countries = ['UNITED KINGDOM', 'FINLAND', 'GERMANY', 'SWEDEN', 'NORWAY', 'SWITZERLAND', 'FRANCE', 'GREECE', 'DENMARK',\n",
    "             'AUSTRIA', 'IRELAND', 'SPAIN', 'LUXEMBOURG', 'PORTUGAL', 'BELGIUM', 'NETHERLANDS', 'ITALY']\n",
    "\n",
    "years = list(df_old['year'].unique())\n",
    "\n",
    "\n",
    "df_country_year_old = pd.DataFrame(index = years, columns = countries)\n",
    "df_country_year_old\n",
    "\n",
    "\n",
    "for country in countries:\n",
    "    for year in years:\n",
    "        df_country_year_old.loc[year,country] = len(df_old.loc[(df_old[\"year\"] == year) & (df_old[\"GEOGN\"] == country)])\n",
    "\n",
    "df_country_year_old = df_country_year_old.sort_index()\n",
    "\n",
    "df_country_year_old.to_excel('Descriptive Stats/00 DescriptiveStatisticsAccountingSample0.xlsx', sheet_name = 'old sample')"
   ]
  },
  {
   "cell_type": "code",
   "execution_count": 14,
   "metadata": {},
   "outputs": [],
   "source": [
    "years = list(df_new['year'].unique())\n",
    "\n",
    "df_country_year_new = pd.DataFrame(index = years, columns = countries)\n",
    "\n",
    "for country in countries:\n",
    "    for year in years:\n",
    "        df_country_year_new.loc[year,country] = len(df_new.loc[(df_new[\"year\"] == year) & (df_new[\"GEOGN\"] == country)])\n",
    "\n",
    "df_country_year_new = df_country_year_new.sort_index()\n",
    "\n",
    "df_country_year_new.to_excel('Descriptive Stats/00 DescriptiveStatisticsAccountingSample1.xlsx', sheet_name = 'new sample')"
   ]
  },
  {
   "cell_type": "code",
   "execution_count": 15,
   "metadata": {},
   "outputs": [],
   "source": [
    "df_country_year_posassets = pd.DataFrame(index = years, columns = countries)\n",
    "\n",
    "for country in countries:\n",
    "    for year in years:\n",
    "        df_country_year_posassets.loc[year,country] = len(df_new.loc[(df_new[\"year\"] == year) & (df_new[\"GEOGN\"] == country) & (df_new[\"TOTALASSETS\"] > 0)])\n",
    "\n",
    "df_country_year_posassets = df_country_year_posassets.sort_index()\n",
    "\n",
    "df_country_year_posassets.to_excel('Descriptive Stats/00 DescriptiveStatisticsAccountingSample3.xlsx', sheet_name = 'posassets sample')"
   ]
  },
  {
   "cell_type": "code",
   "execution_count": 16,
   "metadata": {},
   "outputs": [],
   "source": [
    "df_country_assets = pd.DataFrame(index = years, columns = countries)\n",
    "\n",
    "for country in countries:\n",
    "    for year in years:\n",
    "        df_country_assets.loc[year, country] = df_new.loc[(df_new[\"year\"] == year) & (df_new[\"GEOGN\"] == country), 'TOTALASSETS'].median()\n",
    "\n",
    "df_country_assets = df_country_assets.sort_index()\n",
    "\n",
    "df_country_assets.to_excel('Descriptive Stats/00 DescriptiveStatisticsAccountingSample4.xlsx', sheet_name = 'Assets AVG sample')"
   ]
  },
  {
   "cell_type": "code",
   "execution_count": null,
   "metadata": {},
   "outputs": [],
   "source": []
  }
 ],
 "metadata": {
  "kernelspec": {
   "display_name": "Python 3.10.4 ('InstitutionalOwnership')",
   "language": "python",
   "name": "python3"
  },
  "language_info": {
   "codemirror_mode": {
    "name": "ipython",
    "version": 3
   },
   "file_extension": ".py",
   "mimetype": "text/x-python",
   "name": "python",
   "nbconvert_exporter": "python",
   "pygments_lexer": "ipython3",
   "version": "3.10.4"
  },
  "orig_nbformat": 4,
  "vscode": {
   "interpreter": {
    "hash": "6f7a5dd5e2f7907d7344c7a97df5064407ede5552267e696e20aa016d36b7b66"
   }
  }
 },
 "nbformat": 4,
 "nbformat_minor": 2
}
